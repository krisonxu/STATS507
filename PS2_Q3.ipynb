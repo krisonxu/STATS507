{
 "cells": [
  {
   "cell_type": "markdown",
   "metadata": {},
   "source": [
    "## Question 3"
   ]
  },
  {
   "cell_type": "code",
   "execution_count": null,
   "metadata": {},
   "outputs": [],
   "source": [
    "# Read data: -----------------------------------------------------------------\n",
    "Demo1 = pd.read_sas('DEMO_G.XPT'); Demo1['cohort']='2011-2012'\n",
    "Demo2 = pd.read_sas('DEMO_H.XPT'); Demo2['cohort']='2013-2014'\n",
    "Demo3 = pd.read_sas('DEMO_I.XPT'); Demo3['cohort']='2015-2016'\n",
    "Demo4 = pd.read_sas('DEMO_J.XPT'); Demo4['cohort']='2017-2018'\n",
    "\n",
    "# Clean data: ----------------------------------------------------------------\n",
    "Demo = Demo1.append(Demo2).append(Demo3).append(Demo4).reset_index(drop=True)\n",
    "Demo = Demo[['SEQN','RIDAGEYR','RIDRETH3','DMDEDUC2','DMDMARTL','RIDSTATR',\n",
    "             'SDMVPSU', 'SDMVSTRA', 'WTMEC2YR', 'WTINT2YR','cohort']]\n",
    "Demo = Demo.fillna(-1) ## Transfer NaN to -1\n",
    "\n",
    "# Convert data type: ---------------------------------------------------------\n",
    "for i in ['SEQN','RIDAGEYR','RIDRETH3','DMDEDUC2','DMDMARTL','RIDSTATR',\n",
    "             'SDMVPSU', 'SDMVSTRA']:\n",
    "    Demo[i] = Demo[i].astype(int, errors='ignore')\n",
    "\n",
    "# Remame the columns: --------------------------------------------------------\n",
    "Demo = Demo.rename({'SEQN':'id','RIDAGEYR':'age','RIDRETH3':\n",
    "                    'race and ethnicity', 'DMDEDUC2':'education',\n",
    "                    'DMDMARTL':'marital status'},axis=1)\n",
    "\n",
    "# Save the results: ----------------------------------------------------------\n",
    "Demo.to_pickle('./Demo_pickle.pkl')\n",
    "\n",
    "# 79: ------------------------------------------------------------------------"
   ]
  },
  {
   "cell_type": "code",
   "execution_count": null,
   "metadata": {},
   "outputs": [],
   "source": [
    "# Read data: ------------------------------------------------------------------\n",
    "OHX1 = pd.read_sas('OHXDEN_G.XPT'); OHX1['cohort']='2011-2012'\n",
    "OHX2 = pd.read_sas('OHXDEN_H.XPT'); OHX2['cohort']='2013-2014'\n",
    "OHX3 = pd.read_sas('OHXDEN_I.XPT'); OHX3['cohort']='2015-2016'\n",
    "OHX4 = pd.read_sas('OHXDEN_J.XPT'); OHX4['cohort']='2017-2018'\n",
    "\n",
    "# Clean data: ----------------------------------------------------------------\n",
    "OHX = OHX1.append(OHX2).append(OHX3).append(OHX4).reset_index(drop=True)\n",
    "OHX = pd.concat([OHX.iloc[:,:64].drop(['OHDEXSTS','OHXIMP'],axis=1),\n",
    "                                                 OHX['cohort']],axis=1)\n",
    "OHX = OHX.fillna(-1) ## Transfer NaN to -1\n",
    "\n",
    "# Convert data type: ---------------------------------------------------------\n",
    "for i in range(33):\n",
    "    OHX[str(OHX.columns[i])] = OHX[str(OHX.columns[i])].astype(\n",
    "        int, errors='ignore')\n",
    "\n",
    "# Remame the columns: --------------------------------------------------------\n",
    "OHX = OHX.rename({'SEQN':'id','OHDDESTS':'dentition status code'},axis=1)\n",
    "\n",
    "# Save the results: ----------------------------------------------------------\n",
    "OHX.to_pickle('./OHX_pickle.pkl')\n",
    "\n",
    "# 79: ------------------------------------------------------------------------"
   ]
  }
 ],
 "metadata": {
  "jupytext": {
   "formats": "ipynb,py:light"
  },
  "kernelspec": {
   "display_name": "Python 3",
   "language": "python",
   "name": "python3"
  },
  "language_info": {
   "codemirror_mode": {
    "name": "ipython",
    "version": 3
   },
   "file_extension": ".py",
   "mimetype": "text/x-python",
   "name": "python",
   "nbconvert_exporter": "python",
   "pygments_lexer": "ipython3",
   "version": "3.7.4"
  }
 },
 "nbformat": 4,
 "nbformat_minor": 2
}
