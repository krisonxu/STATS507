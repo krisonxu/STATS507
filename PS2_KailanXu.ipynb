{
 "cells": [
  {
   "cell_type": "markdown",
   "metadata": {},
   "source": [
    "# STATS507 Assignment 2\n",
    "### **Kailan Xu**  \n",
    "### *September 22, 2021*"
   ]
  },
  {
   "cell_type": "markdown",
   "metadata": {},
   "source": [
    "***\n",
    "## Question 0 - Code review  warmup [10 points]                   "
   ]
  },
  {
   "cell_type": "markdown",
   "metadata": {},
   "source": [
    "### Code Snippet"
   ]
  },
  {
   "cell_type": "code",
   "execution_count": null,
   "metadata": {},
   "outputs": [],
   "source": [
    "sample_list = [(1, 3, 5), (0, 1, 2), (1, 9, 8)]\n",
    "op = []\n",
    "for m in range(len(sample_list)):  \n",
    "    li = [sample_list[m]]   \n",
    "        for n in range(len(sample_list)):\n",
    "            if (sample_list[m][0] == sample_list[n][0] and\n",
    "                    sample_list[m][3] != sample_list[n][3]):\n",
    "                li.append(sample_list[n])\n",
    "        op.append(sorted(li, key=lambda dd: dd[3], reverse=True)[0])\n",
    "res = list(set(op))"
   ]
  },
  {
   "cell_type": "markdown",
   "metadata": {},
   "source": [
    "a. Concisely describe what task the code above accomplishes."
   ]
  },
  {
   "cell_type": "markdown",
   "metadata": {},
   "source": [
    "- From the sample list, the code would pick out the tuples with the biggest 3rd element group by the 1st element of tuples. "
   ]
  },
  {
   "cell_type": "markdown",
   "metadata": {},
   "source": [
    "b. Write a short code review that offers 3-5 (no more) concrete suggestions to make the snippent more efficient, literate (easier to read), or “pythonic”."
   ]
  },
  {
   "cell_type": "markdown",
   "metadata": {},
   "source": [
    "1. The indentation of line 5 is 4 spaces more.\n",
    "1. The index 3 is out of size of tuples, it should be 2.\n",
    "1. The name of variables in the snippets is lack of readability. \n",
    "1. The loop in loop ($O(n^2)$) could be replaced bya loop with a dictionary ($O(n)$)\n"
   ]
  },
  {
   "cell_type": "markdown",
   "metadata": {},
   "source": [
    "***\n",
    "## Question 1 - List of Tuples [20 points]"
   ]
  },
  {
   "cell_type": "markdown",
   "metadata": {},
   "source": [
    "Write a function that uses NumPy and a list comprehension to generate a random list of `n` k-tuples containing integers ranging from `low` to `high`. Choose an appropriate name for your function, and reasonable default values for k, `low`, and `high`.\n",
    "\n",
    "Use `assert` to test that your function returns a list of tuples."
   ]
  },
  {
   "cell_type": "code",
   "execution_count": 1,
   "metadata": {},
   "outputs": [],
   "source": [
    "# libraries: -----------------------------------------------------------------\n",
    "import pandas as pd\n",
    "import numpy as np\n",
    "import time \n",
    "from scipy.stats import norm\n",
    "from timeit import Timer\n",
    "from collections import defaultdict"
   ]
  },
  {
   "cell_type": "code",
   "execution_count": 2,
   "metadata": {},
   "outputs": [],
   "source": [
    "# function: ------------------------------------------------------------------\n",
    "def generate_lst_of_tuples(n, k=3, low=1, high=10):\n",
    "    \"\"\"\n",
    "    Generate a random list of n k-tuples.\n",
    "    \n",
    "    Parameter\n",
    "    ---------\n",
    "    n: int, the length of the list\n",
    "    k: int, the length of the tuples\n",
    "    low: int, the lower bound of integers of tuples\n",
    "    high: int, the upper bound of integers of tuples\n",
    "    \n",
    "    Returns\n",
    "    ---------\n",
    "    A list of n k-tuples.\n",
    "    \"\"\"\n",
    "    \n",
    "    rd_array = np.random.choice(range(low, high), n*k)\n",
    "    array_reshape = rd_array.reshape(n,k)\n",
    "    re = list(tuple([x for x in y]) for y in array_reshape)\n",
    "    \n",
    "    return re\n",
    "# 79: ------------------------------------------------------------------------"
   ]
  },
  {
   "cell_type": "code",
   "execution_count": 3,
   "metadata": {},
   "outputs": [
    {
     "name": "stdout",
     "output_type": "stream",
     "text": [
      "The function returns a list of tuples\n"
     ]
    }
   ],
   "source": [
    "# test: ----------------------------------------------------------------------\n",
    "re = generate_lst_of_tuples(2)\n",
    "assert isinstance(re,list), 'Output is not a list'\n",
    "assert isinstance(re[0],tuple), 'The elements are not tuples.'\n",
    "print('The function returns a list of tuples')\n",
    "\n",
    "# 79: ------------------------------------------------------------------------"
   ]
  },
  {
   "cell_type": "markdown",
   "metadata": {},
   "source": [
    "***\n",
    "### Question 2 - Refactor the Snippet [40 points]\n"
   ]
  },
  {
   "cell_type": "markdown",
   "metadata": {},
   "source": [
    "In this question, you will write functions to accomplish the goal you concisely described in part “a” of the warm up."
   ]
  },
  {
   "cell_type": "markdown",
   "metadata": {},
   "source": [
    "1. Encapsulate the code snippet from the warmup into a function that parameterizes the role of 0 and 3 and is otherwise unchanged. Choose appropriate names for these parameters."
   ]
  },
  {
   "cell_type": "code",
   "execution_count": 4,
   "metadata": {},
   "outputs": [],
   "source": [
    "# function: ------------------------------------------------------------------\n",
    "def rank_tuples_groupby_idxa_orderby_idxb(sample_list, a=0, b=2):\n",
    "    \"\"\"\n",
    "    From the sample list, pick out the tuples with the biggest b th element \n",
    "    group by the a th element of tuples. Ordinary Version\n",
    "    \n",
    "    Parameter\n",
    "    ---------\n",
    "    sample_list: a list of tuples\n",
    "    a: an int\n",
    "    b: an int\n",
    "    \n",
    "    Returns\n",
    "    ---------\n",
    "    A list of tuples.\n",
    "    \"\"\"\n",
    "    op = []\n",
    "    for m in range(len(sample_list)):  \n",
    "        li = [sample_list[m]]   \n",
    "        for n in range(len(sample_list)):\n",
    "            if (sample_list[m][a] == sample_list[n][a] and\n",
    "                    sample_list[m][b] != sample_list[n][b]):\n",
    "                li.append(sample_list[n])\n",
    "        op.append(sorted(li, key=lambda dd: dd[b], reverse=True)[0])\n",
    "    res = list(set(op))\n",
    "    \n",
    "    return res\n",
    "# 79: ------------------------------------------------------------------------"
   ]
  },
  {
   "cell_type": "markdown",
   "metadata": {},
   "source": [
    "2. Write an improved version of the function form part a that implements the suggestions from the code review you wrote in part b of the warmup."
   ]
  },
  {
   "cell_type": "code",
   "execution_count": 5,
   "metadata": {},
   "outputs": [],
   "source": [
    "# function: ------------------------------------------------------------------\n",
    "def rank_tuples_groupby_idxa_orderby_idxb_v2(sample_list, a=0, b=2):\n",
    "    \"\"\"\n",
    "    From the sample list, pick out the tuples with the biggest bth element \n",
    "    group by the ath element of tuples. Polished Version of Loop in Loop.\n",
    "    \n",
    "    Parameter\n",
    "    ---------\n",
    "    sample_list: a list of tuples\n",
    "    a: an int\n",
    "    b: an int\n",
    "    \n",
    "    Returns\n",
    "    ---------\n",
    "    A list of tuples.\n",
    "    \"\"\"\n",
    "    op = []\n",
    "    for m in range(len(sample_list)): \n",
    "        M = sample_list[m]\n",
    "        li = [M]   \n",
    "        for n in range(len(sample_list)):\n",
    "            N = sample_list[n]\n",
    "            if (M[a] == N[a] and M[b] != N[b]):\n",
    "                li.append(N)\n",
    "        op.append(sorted(li, key=lambda dd: dd[b], reverse=True)[0])\n",
    "    res = list(set(op))\n",
    "    \n",
    "    return res\n",
    "# 79: ------------------------------------------------------------------------"
   ]
  },
  {
   "cell_type": "markdown",
   "metadata": {},
   "source": [
    "3. Write a function from scratch to accomplish the same task as the previous two parts. Your solution should traverse the input list of tuples no more than twice. Hint: consider using a dictionary or a default dictionary in your solution."
   ]
  },
  {
   "cell_type": "code",
   "execution_count": 6,
   "metadata": {},
   "outputs": [],
   "source": [
    "# function: ------------------------------------------------------------------\n",
    "def rank_tuples_groupby_idxa_orderby_idxb_oneloop(sample_list, a=0, b=2):\n",
    "    \"\"\"\n",
    "    From the sample list, pick out the tuples with the biggest bth element \n",
    "    group by the ath element of tuples. Loop once with a dictionary.\n",
    "    \n",
    "    Parameter\n",
    "    ---------\n",
    "    sample_list: a list of tuples\n",
    "    a: an int\n",
    "    b: an int\n",
    "    \n",
    "    Returns\n",
    "    ---------\n",
    "    A list of tuples.\n",
    "    \"\"\"\n",
    "    op = {}\n",
    "    for m in range(len(sample_list)):  \n",
    "        A = sample_list[m][a]\n",
    "        B = sample_list[m][b]\n",
    "        if str(A) not in op.keys():\n",
    "            op[str(A)] = sample_list[m]\n",
    "        else:\n",
    "            if op[str(A)][b] < B:\n",
    "                op[str(A)] = sample_list[m]\n",
    "    \n",
    "    return list(op.values())\n",
    "# 79: ------------------------------------------------------------------------"
   ]
  },
  {
   "cell_type": "markdown",
   "metadata": {},
   "source": [
    "4. Use the function you wrote in question 1 to generate a list of tuples as input(s), run and summarize a small Monte Carlo study comparing the execution times of the three functions above (a-c)"
   ]
  },
  {
   "cell_type": "code",
   "execution_count": 8,
   "metadata": {
    "scrolled": true
   },
   "outputs": [
    {
     "data": {
      "text/html": [
       "<div>\n",
       "<style scoped>\n",
       "    .dataframe tbody tr th:only-of-type {\n",
       "        vertical-align: middle;\n",
       "    }\n",
       "\n",
       "    .dataframe tbody tr th {\n",
       "        vertical-align: top;\n",
       "    }\n",
       "\n",
       "    .dataframe thead th {\n",
       "        text-align: right;\n",
       "    }\n",
       "</style>\n",
       "<table border=\"1\" class=\"dataframe\">\n",
       "  <thead>\n",
       "    <tr style=\"text-align: right;\">\n",
       "      <th></th>\n",
       "      <th>Function</th>\n",
       "      <th>min, s</th>\n",
       "      <th>median, s</th>\n",
       "      <th>mean, s</th>\n",
       "    </tr>\n",
       "  </thead>\n",
       "  <tbody>\n",
       "    <tr>\n",
       "      <th>0</th>\n",
       "      <td>rank_tuples_groupby_idxa_orderby_idxb</td>\n",
       "      <td>0.119</td>\n",
       "      <td>0.125</td>\n",
       "      <td>0.128</td>\n",
       "    </tr>\n",
       "    <tr>\n",
       "      <th>1</th>\n",
       "      <td>rank_tuples_groupby_idxa_orderby_idxb_v2</td>\n",
       "      <td>0.100</td>\n",
       "      <td>0.107</td>\n",
       "      <td>0.129</td>\n",
       "    </tr>\n",
       "    <tr>\n",
       "      <th>2</th>\n",
       "      <td>rank_tuples_groupby_idxa_orderby_idxb_oneloop</td>\n",
       "      <td>0.010</td>\n",
       "      <td>0.010</td>\n",
       "      <td>0.010</td>\n",
       "    </tr>\n",
       "  </tbody>\n",
       "</table>\n",
       "</div>"
      ],
      "text/plain": [
       "                                        Function min, s median, s mean, s\n",
       "0          rank_tuples_groupby_idxa_orderby_idxb  0.119     0.125   0.128\n",
       "1       rank_tuples_groupby_idxa_orderby_idxb_v2  0.100     0.107   0.129\n",
       "2  rank_tuples_groupby_idxa_orderby_idxb_oneloop  0.010     0.010   0.010"
      ]
     },
     "execution_count": 8,
     "metadata": {},
     "output_type": "execute_result"
    }
   ],
   "source": [
    "# timing with list of tuples input: ------------------------------------------\n",
    "sample_lst = generate_lst_of_tuples(100)\n",
    "function_lst = [rank_tuples_groupby_idxa_orderby_idxb, \n",
    "                rank_tuples_groupby_idxa_orderby_idxb_v2, \n",
    "                rank_tuples_groupby_idxa_orderby_idxb_oneloop]\n",
    "time_nda = defaultdict(list)\n",
    "\n",
    "for f in function_lst:\n",
    "    t = Timer('f(sample_lst)', globals={'f': f, 'sample_lst': sample_lst})\n",
    "    tm = t.repeat(repeat=10, number=100)\n",
    "    time_nda['Function'].append(f.__name__)\n",
    "    time_nda['min, s'].append(np.min(tm))\n",
    "    time_nda['median, s'].append(np.median(tm))\n",
    "    time_nda['mean, s'].append(np.mean(tm))\n",
    "\n",
    "time_nda = pd.DataFrame(time_nda)\n",
    "for c, d in zip(time_nda.columns, time_nda.dtypes):\n",
    "    if d == np.dtype('float64'):\n",
    "        time_nda[c] = time_nda[c].map(lambda x: '%5.3f' % x)\n",
    "time_nda\n",
    "# 79: ------------------------------------------------------------------------"
   ]
  },
  {
   "cell_type": "markdown",
   "metadata": {},
   "source": [
    "**Summary:**  \n",
    "- In this Monte Carlo simulation, I set 10 groups of parellel experiments, and each group consisting of 100 times of function executions.By computing the minimum/median/mean time of each 100 execution times of each function, we can compare functions' running efficiency. \n",
    "- The simple Monte Carlo study implies that for every 100 times execution,the minimum time consumed for function `rank_tuples_groupby_idxa_orderby_idxb` is 0.121s, for function `rank_tuples_groupby_idxa_orderby_idxb_v2` is 0.098s and for function `rank_tuples_groupby_idxa_orderby_idxb_oneloop` is 0.01s which is a square root level of execution time of former 2 functions."
   ]
  },
  {
   "cell_type": "markdown",
   "metadata": {},
   "source": [
    "***\n",
    "### Question 3 - [30 points]"
   ]
  },
  {
   "cell_type": "markdown",
   "metadata": {},
   "source": [
    "1. Use Python and Pandas to read and append the demographic datasets keeping only columns containing the unique ids (SEQN), age (RIDAGEYR), race and ethnicity (RIDRETH3), education (DMDEDUC2), and marital status (DMDMARTL), along with the following variables related to the survey weighting: (RIDSTATR, SDMVPSU, SDMVSTRA, WTMEC2YR, WTINT2YR). Add an additional column identifying to which cohort each case belongs. Rename the columns with literate variable names using all lower case and convert each column to an appropriate type. Finally, save the resulting data frame to a serialized “round-trip” format of your choosing (e.g. pickle, feather, or parquet)."
   ]
  },
  {
   "cell_type": "code",
   "execution_count": 8,
   "metadata": {
    "scrolled": true
   },
   "outputs": [],
   "source": [
    "# Read data: -----------------------------------------------------------------\n",
    "Demo1 = pd.read_sas('DEMO_G.XPT'); Demo1['cohort']='2011-2012'\n",
    "Demo2 = pd.read_sas('DEMO_H.XPT'); Demo2['cohort']='2013-2014'\n",
    "Demo3 = pd.read_sas('DEMO_I.XPT'); Demo3['cohort']='2015-2016'\n",
    "Demo4 = pd.read_sas('DEMO_J.XPT'); Demo4['cohort']='2017-2018'\n",
    "\n",
    "# Clean data: ----------------------------------------------------------------\n",
    "Demo = Demo1.append(Demo2).append(Demo3).append(Demo4).reset_index(drop=True)\n",
    "Demo = Demo[['SEQN','RIDAGEYR','RIDRETH3','DMDEDUC2','DMDMARTL','RIDSTATR',\n",
    "             'SDMVPSU', 'SDMVSTRA', 'WTMEC2YR', 'WTINT2YR','cohort']]\n",
    "Demo = Demo.fillna(-1) ## Transfer NaN to -1\n",
    "\n",
    "# Convert data type: ---------------------------------------------------------\n",
    "for i in ['SEQN','RIDAGEYR','RIDRETH3','DMDEDUC2','DMDMARTL','RIDSTATR',\n",
    "             'SDMVPSU', 'SDMVSTRA']:\n",
    "    Demo[i] = Demo[i].astype(int, errors='ignore')\n",
    "\n",
    "# Remame the columns: --------------------------------------------------------\n",
    "Demo = Demo.rename({'SEQN':'id','RIDAGEYR':'age','RIDRETH3':\n",
    "                    'race and ethnicity', 'DMDEDUC2':'education',\n",
    "                    'DMDMARTL':'marital status'},axis=1)\n",
    "\n",
    "# Save the results: ----------------------------------------------------------\n",
    "Demo.to_pickle('./Demo_pickle.pkl')\n",
    "\n",
    "# 79: ------------------------------------------------------------------------"
   ]
  },
  {
   "cell_type": "markdown",
   "metadata": {},
   "source": [
    "2. Repeat part a for the oral health and dentition data (OHXDEN_*.XPT) retaining the following variables: SEQN, OHDDESTS, tooth counts (OHXxxTC), and coronal cavities (OHXxxCTC)."
   ]
  },
  {
   "cell_type": "code",
   "execution_count": 11,
   "metadata": {},
   "outputs": [],
   "source": [
    "# Read data: ------------------------------------------------------------------\n",
    "OHX1 = pd.read_sas('OHXDEN_G.XPT'); OHX1['cohort']='2011-2012'\n",
    "OHX2 = pd.read_sas('OHXDEN_H.XPT'); OHX2['cohort']='2013-2014'\n",
    "OHX3 = pd.read_sas('OHXDEN_I.XPT'); OHX3['cohort']='2015-2016'\n",
    "OHX4 = pd.read_sas('OHXDEN_J.XPT'); OHX4['cohort']='2017-2018'\n",
    "\n",
    "# Clean data: ----------------------------------------------------------------\n",
    "OHX = OHX1.append(OHX2).append(OHX3).append(OHX4).reset_index(drop=True)\n",
    "OHX = pd.concat([OHX.iloc[:,:64].drop(['OHDEXSTS','OHXIMP'],axis=1),\n",
    "                                                 OHX['cohort']],axis=1)\n",
    "OHX = OHX.fillna(-1) ## Transfer NaN to -1\n",
    "\n",
    "# Convert data type: ---------------------------------------------------------\n",
    "for i in range(33):\n",
    "    OHX[str(OHX.columns[i])] = OHX[str(OHX.columns[i])].astype(\n",
    "        int, errors='ignore')\n",
    "\n",
    "# Remame the columns: --------------------------------------------------------\n",
    "OHX = OHX.rename({'SEQN':'id','OHDDESTS':'dentition status code'},axis=1)\n",
    "\n",
    "# Save the results: ----------------------------------------------------------\n",
    "OHX.to_pickle('./OHX_pickle.pkl')\n",
    "\n",
    "# 79: ------------------------------------------------------------------------"
   ]
  },
  {
   "cell_type": "markdown",
   "metadata": {},
   "source": [
    "3. In your notebook, report the number of cases there are in the two datasets above."
   ]
  },
  {
   "cell_type": "code",
   "execution_count": 17,
   "metadata": {
    "scrolled": true
   },
   "outputs": [
    {
     "name": "stdout",
     "output_type": "stream",
     "text": [
      "The number of cases in the demographic datasets(2011-2018) is: 39156\n",
      "The number of cases in the  oral health and dentition datasets(2011-2018) is: 35909\n"
     ]
    }
   ],
   "source": [
    "print('The number of cases in the demographic datasets(2011-2018) is:',Demo['id'].nunique())\n",
    "print('The number of cases in the  oral health and dentition datasets(2011-2018) is:',OHX['id'].nunique())"
   ]
  },
  {
   "cell_type": "markdown",
   "metadata": {},
   "source": [
    "- The number of cases in the demographic datasets(2011-2018) is: 39156\n",
    "- The number of cases in the  oral health and dentition datasets(2011-2018) is: 35909"
   ]
  },
  {
   "cell_type": "code",
   "execution_count": null,
   "metadata": {},
   "outputs": [],
   "source": []
  }
 ],
 "metadata": {
  "jupytext": {
   "encoding": "# -*- coding: utf-8 -*-",
   "formats": "ipynb,py:light"
  },
  "kernelspec": {
   "display_name": "Python 3",
   "language": "python",
   "name": "python3"
  },
  "language_info": {
   "codemirror_mode": {
    "name": "ipython",
    "version": 3
   },
   "file_extension": ".py",
   "mimetype": "text/x-python",
   "name": "python",
   "nbconvert_exporter": "python",
   "pygments_lexer": "ipython3",
   "version": "3.7.4"
  }
 },
 "nbformat": 4,
 "nbformat_minor": 5
}
