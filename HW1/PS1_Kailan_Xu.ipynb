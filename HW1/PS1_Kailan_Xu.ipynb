{
 "cells": [
  {
   "cell_type": "markdown",
   "metadata": {},
   "source": [
    "# STATS507 Assignment 1\n",
    "### **Kailan Xu**  \n",
    "### *September 14,2021*"
   ]
  },
  {
   "cell_type": "markdown",
   "metadata": {},
   "source": [
    "  "
   ]
  },
  {
   "cell_type": "markdown",
   "metadata": {},
   "source": [
    "## Question 0 - Markdown warmup [10 points]                     \n",
    "***"
   ]
  },
  {
   "cell_type": "markdown",
   "metadata": {
    "scrolled": true
   },
   "source": [
    "\n",
    "This is *question 0* for [problem set 1][ps1] of [Stats 507][s507].\n",
    "\n",
    "<blockquote>\n",
    " Question 0 is about Markdown.\n",
    "</blockquote>\n",
    "\n",
    "The next question is about the **Fibonnaci sequence**, $F_n=F_{n−2}+F_{n−1}$. In part **a** we will define a Python function `fib_rec()`.\n",
    "<br>\n",
    "\n",
    "Below is a …\n",
    "\n",
    "### Level 3 Header\n",
    "Next, we can make a bulleted list:\n",
    "\n",
    "- Item 1\n",
    "    - detail 1\n",
    "    - detail 2\n",
    "- Item 2\n",
    "\n",
    "Finally, we can make an enumerated list:\n",
    "1. Item 1\n",
    "2. Item 2\n",
    "3. Item 3\n",
    "\n",
    "[ps1]:https://jbhender.github.io/Stats507/F21/ps/ps1.html\n",
    "[s507]:https://jbhender.github.io/Stats507/F21/\n",
    "\n",
    "\n"
   ]
  },
  {
   "cell_type": "markdown",
   "metadata": {},
   "source": [
    "***"
   ]
  },
  {
   "cell_type": "code",
   "execution_count": 1,
   "metadata": {
    "scrolled": true
   },
   "outputs": [],
   "source": [
    "# libraries: -----------------------------------------------------------------\n",
    "import pandas as pd\n",
    "import numpy as np\n",
    "import time \n",
    "from scipy.stats import norm\n",
    "import tabulate"
   ]
  },
  {
   "cell_type": "markdown",
   "metadata": {},
   "source": [
    "## Question 1 - - Fibonnaci Sequence [30]"
   ]
  },
  {
   "cell_type": "markdown",
   "metadata": {},
   "source": [
    "#### a. Write a $recursive$ function `fib_rec()` that takes a single input `n` and returns the value of $Fn$.\n",
    "\n"
   ]
  },
  {
   "cell_type": "code",
   "execution_count": 2,
   "metadata": {},
   "outputs": [],
   "source": [
    "# functions: -----------------------------------------------------------------\n",
    "def fib_rec(n):\n",
    "    \"\"\"\n",
    "    Compute the nth value of Fibonnaci Sequence.\n",
    "    \n",
    "    Parameter\n",
    "    ---------\n",
    "    n: int, the nth number in the Fib Sequence.\n",
    "    \n",
    "    Returns\n",
    "    ---------\n",
    "    An integer for the nth value of Fib Seq\n",
    "    \n",
    "    \"\"\"\n",
    "    if n == 0 or n == 1:\n",
    "        return n\n",
    "    else:\n",
    "        return fib_rec(n-1) + fib_rec(n-2)\n",
    "    \n",
    "# test function: -------------------------------------------------------------\n",
    "def test_func(func):\n",
    "    for i in [7,11,13]:\n",
    "        print(\"F\"+str(i)+\"=\",func(i))"
   ]
  },
  {
   "cell_type": "code",
   "execution_count": 3,
   "metadata": {
    "scrolled": true
   },
   "outputs": [
    {
     "name": "stdout",
     "output_type": "stream",
     "text": [
      "F7= 13\n",
      "F11= 89\n",
      "F13= 233\n"
     ]
    }
   ],
   "source": [
    "# test result: ---------------------------------------------------------------\n",
    "test_func(fib_rec)"
   ]
  },
  {
   "cell_type": "markdown",
   "metadata": {},
   "source": [
    "***"
   ]
  },
  {
   "cell_type": "markdown",
   "metadata": {},
   "source": [
    "#### b.  Write a function `fib_for()` with the same signature that computes $Fn$  by summation using a `for` loop.\n",
    "\n"
   ]
  },
  {
   "cell_type": "code",
   "execution_count": 4,
   "metadata": {},
   "outputs": [
    {
     "name": "stdout",
     "output_type": "stream",
     "text": [
      "F7= 13\n",
      "F11= 89\n",
      "F13= 233\n"
     ]
    }
   ],
   "source": [
    "# functions: -----------------------------------------------------------------\n",
    "def fib_for(n):\n",
    "    \"\"\"\n",
    "    Compute the nth value of Fibonnaci Sequence.\n",
    "    \n",
    "    Parameter\n",
    "    ---------\n",
    "    n: int, the nth number in the Fib Sequence.\n",
    "    \n",
    "    Returns\n",
    "    ---------\n",
    "    An integer for the nth value of Fib Seq\n",
    "    \n",
    "    \"\"\"\n",
    "    if n == 0 or n == 1:\n",
    "        return n\n",
    "    else:\n",
    "        fa = 0\n",
    "        fb = 1\n",
    "        fn = 1\n",
    "        for i in range(2,n):\n",
    "            fa = fb\n",
    "            fb = fn\n",
    "            fn= fa + fb\n",
    "        return fn\n",
    "\n",
    "    \n",
    "    \n",
    "# test result: ---------------------------------------------------------------\n",
    "test_func(fib_for)"
   ]
  },
  {
   "cell_type": "markdown",
   "metadata": {},
   "source": [
    "***"
   ]
  },
  {
   "cell_type": "markdown",
   "metadata": {},
   "source": [
    "**c. Write a function `fib_whl()` with the same signature that computes $Fn$ by summation using a `while` loop.**"
   ]
  },
  {
   "cell_type": "code",
   "execution_count": 5,
   "metadata": {},
   "outputs": [
    {
     "name": "stdout",
     "output_type": "stream",
     "text": [
      "F7= 13\n",
      "F11= 89\n",
      "F13= 233\n"
     ]
    }
   ],
   "source": [
    "# functions: -----------------------------------------------------------------\n",
    "def fib_whl(n):\n",
    "    \"\"\"\n",
    "    Compute the nth value of Fibonnaci Sequence.\n",
    "    \n",
    "    Parameter\n",
    "    ---------\n",
    "    n: int, the nth number in the Fib Sequence.\n",
    "    \n",
    "    Returns\n",
    "    ---------\n",
    "    An integer for the nth value of Fib Seq\n",
    "    \n",
    "    \"\"\"\n",
    "    if n == 0 or n == 1:\n",
    "        return n\n",
    "    else:\n",
    "        fa = 0\n",
    "        fb = 1\n",
    "        fn = 1\n",
    "        i = 2\n",
    "        while i < n:\n",
    "            fa = fb\n",
    "            fb = fn\n",
    "            fn= fa + fb\n",
    "            i +=1\n",
    "        return fn\n",
    "\n",
    "    \n",
    "    \n",
    "# test result: --------------------------------------------------------------- \n",
    "test_func(fib_whl)"
   ]
  },
  {
   "cell_type": "markdown",
   "metadata": {},
   "source": [
    "***"
   ]
  },
  {
   "cell_type": "markdown",
   "metadata": {},
   "source": [
    "**d. Write a function `fib_rnd()` with the same signature that computes $Fn$ using the rounding method described on the Wikipedia page linked above.**"
   ]
  },
  {
   "cell_type": "code",
   "execution_count": 6,
   "metadata": {},
   "outputs": [
    {
     "name": "stdout",
     "output_type": "stream",
     "text": [
      "F7= 13.0\n",
      "F11= 89.0\n",
      "F13= 233.0\n"
     ]
    }
   ],
   "source": [
    "# functions: -----------------------------------------------------------------\n",
    "def fib_rnd(n):\n",
    "    \"\"\"\n",
    "    Compute the nth value of Fibonnaci Sequence.\n",
    "    \n",
    "    Parameter\n",
    "    ---------\n",
    "    n: int, the nth number in the Fib Sequence.\n",
    "    \n",
    "    Returns\n",
    "    ---------\n",
    "    An integer for the nth value of Fib Seq\n",
    "    \n",
    "    \"\"\"\n",
    "    psi = (1+np.sqrt(5))/2\n",
    "    return round(psi**n/np.sqrt(5))\n",
    "\n",
    "\n",
    "# test result: ---------------------------------------------------------------  \n",
    "test_func(fib_rnd)"
   ]
  },
  {
   "cell_type": "markdown",
   "metadata": {},
   "source": [
    "***"
   ]
  },
  {
   "cell_type": "markdown",
   "metadata": {},
   "source": [
    "**e. Write a function `fib_flr()` with the same signature that computes $Fn$ using the truncation method described on the Wikipedia page linked above.**"
   ]
  },
  {
   "cell_type": "code",
   "execution_count": 7,
   "metadata": {},
   "outputs": [
    {
     "name": "stdout",
     "output_type": "stream",
     "text": [
      "F7= 13.0\n",
      "F11= 89.0\n",
      "F13= 233.0\n"
     ]
    }
   ],
   "source": [
    "# functions: -----------------------------------------------------------------\n",
    "def fib_flr(n):\n",
    "    \"\"\"\n",
    "    Compute the nth value of Fibonnaci Sequence.\n",
    "    \n",
    "    Parameter\n",
    "    ---------\n",
    "    n: int, the nth number in the Fib Sequence.\n",
    "    \n",
    "    Returns\n",
    "    ---------\n",
    "    An integer for the nth value of Fib Seq\n",
    "    \n",
    "    \"\"\"\n",
    "    psi = (1+np.sqrt(5))/2\n",
    "    return np.floor(psi**n/np.sqrt(5)+0.5)\n",
    "\n",
    "\n",
    "# test result: ---------------------------------------------------------------  \n",
    "test_func(fib_flr)"
   ]
  },
  {
   "cell_type": "markdown",
   "metadata": {},
   "source": [
    "***"
   ]
  },
  {
   "cell_type": "markdown",
   "metadata": {},
   "source": [
    "**f. For a sequence of increasingly large values of `n` compare the median computation time of each of the functions above. Present your results in a nicely formatted table. (Point estimates are sufficient).**"
   ]
  },
  {
   "cell_type": "code",
   "execution_count": 10,
   "metadata": {},
   "outputs": [],
   "source": [
    "# functions list: ------------------------------------------------------------\n",
    "func_list = [fib_rec, fib_for, fib_whl, fib_rnd, fib_flr]\n",
    "# 79: ------------------------------------------------------------------------"
   ]
  },
  {
   "cell_type": "code",
   "execution_count": 11,
   "metadata": {},
   "outputs": [],
   "source": [
    "# data frame: ----------------------------------------------------------------\n",
    "dat = pd.DataFrame(\n",
    "    {\n",
    "     \"the nth trials\": [1,2,3,4,5,'median'],\n",
    "     \"value of n\": np.repeat(30,6),\n",
    "     \"fib_rec(ms)\":np.repeat(0,6),\n",
    "     \"fib_for(ms)\":np.repeat(0,6),\n",
    "     \"fib_whl(ms)\":np.repeat(0,6),\n",
    "     \"fib_rnd(ms)\":np.repeat(0,6),\n",
    "     \"fib_flr(ms)\":np.repeat(0,6)\n",
    "     }\n",
    "    )\n",
    "# 79: ------------------------------------------------------------------------"
   ]
  },
  {
   "cell_type": "code",
   "execution_count": 12,
   "metadata": {},
   "outputs": [],
   "source": [
    "# Compute running time of each function with n = 30: -------------------------\n",
    "count = 0\n",
    "while count<5:\n",
    "    for i in range(5):\n",
    "        n = 30\n",
    "        t1 = 1000*time.perf_counter() ### *1000 means the unit is ms\n",
    "        result = func_list[i](n)\n",
    "        t2 =1000*time.perf_counter()\n",
    "        dat.iloc[count,i+2] = round(t2 - t1,5)\n",
    "    count += 1\n",
    "    \n",
    "# Compute the median running time for each methods\n",
    "dat.iloc[5,2:]=dat.iloc[0:5,2:].apply(np.median,axis=0)\n",
    "# 79: ------------------------------------------------------------------------"
   ]
  },
  {
   "cell_type": "code",
   "execution_count": 13,
   "metadata": {
    "scrolled": false
   },
   "outputs": [
    {
     "data": {
      "text/html": [
       "<div>\n",
       "<style scoped>\n",
       "    .dataframe tbody tr th:only-of-type {\n",
       "        vertical-align: middle;\n",
       "    }\n",
       "\n",
       "    .dataframe tbody tr th {\n",
       "        vertical-align: top;\n",
       "    }\n",
       "\n",
       "    .dataframe thead th {\n",
       "        text-align: right;\n",
       "    }\n",
       "</style>\n",
       "<table border=\"1\" class=\"dataframe\">\n",
       "  <thead>\n",
       "    <tr style=\"text-align: right;\">\n",
       "      <th></th>\n",
       "      <th>the nth trials</th>\n",
       "      <th>value of n</th>\n",
       "      <th>fib_rec(ms)</th>\n",
       "      <th>fib_for(ms)</th>\n",
       "      <th>fib_whl(ms)</th>\n",
       "      <th>fib_rnd(ms)</th>\n",
       "      <th>fib_flr(ms)</th>\n",
       "    </tr>\n",
       "  </thead>\n",
       "  <tbody>\n",
       "    <tr>\n",
       "      <th>0</th>\n",
       "      <td>1</td>\n",
       "      <td>30</td>\n",
       "      <td>306.7421</td>\n",
       "      <td>0.0048</td>\n",
       "      <td>0.0039</td>\n",
       "      <td>0.0151</td>\n",
       "      <td>0.0131</td>\n",
       "    </tr>\n",
       "    <tr>\n",
       "      <th>1</th>\n",
       "      <td>2</td>\n",
       "      <td>30</td>\n",
       "      <td>333.9897</td>\n",
       "      <td>0.0041</td>\n",
       "      <td>0.0040</td>\n",
       "      <td>0.0164</td>\n",
       "      <td>0.0139</td>\n",
       "    </tr>\n",
       "    <tr>\n",
       "      <th>2</th>\n",
       "      <td>3</td>\n",
       "      <td>30</td>\n",
       "      <td>284.8328</td>\n",
       "      <td>0.0042</td>\n",
       "      <td>0.0039</td>\n",
       "      <td>0.0188</td>\n",
       "      <td>0.0160</td>\n",
       "    </tr>\n",
       "    <tr>\n",
       "      <th>3</th>\n",
       "      <td>4</td>\n",
       "      <td>30</td>\n",
       "      <td>282.8835</td>\n",
       "      <td>0.0040</td>\n",
       "      <td>0.0040</td>\n",
       "      <td>0.0185</td>\n",
       "      <td>0.0140</td>\n",
       "    </tr>\n",
       "    <tr>\n",
       "      <th>4</th>\n",
       "      <td>5</td>\n",
       "      <td>30</td>\n",
       "      <td>286.0685</td>\n",
       "      <td>0.0038</td>\n",
       "      <td>0.0039</td>\n",
       "      <td>0.0209</td>\n",
       "      <td>0.0133</td>\n",
       "    </tr>\n",
       "    <tr>\n",
       "      <th>5</th>\n",
       "      <td>median</td>\n",
       "      <td>30</td>\n",
       "      <td>286.0685</td>\n",
       "      <td>0.0041</td>\n",
       "      <td>0.0039</td>\n",
       "      <td>0.0185</td>\n",
       "      <td>0.0139</td>\n",
       "    </tr>\n",
       "  </tbody>\n",
       "</table>\n",
       "</div>"
      ],
      "text/plain": [
       "  the nth trials  value of n  fib_rec(ms)  fib_for(ms)  fib_whl(ms)  \\\n",
       "0              1          30     306.7421       0.0048       0.0039   \n",
       "1              2          30     333.9897       0.0041       0.0040   \n",
       "2              3          30     284.8328       0.0042       0.0039   \n",
       "3              4          30     282.8835       0.0040       0.0040   \n",
       "4              5          30     286.0685       0.0038       0.0039   \n",
       "5         median          30     286.0685       0.0041       0.0039   \n",
       "\n",
       "   fib_rnd(ms)  fib_flr(ms)  \n",
       "0       0.0151       0.0131  \n",
       "1       0.0164       0.0139  \n",
       "2       0.0188       0.0160  \n",
       "3       0.0185       0.0140  \n",
       "4       0.0209       0.0133  \n",
       "5       0.0185       0.0139  "
      ]
     },
     "execution_count": 13,
     "metadata": {},
     "output_type": "execute_result"
    }
   ],
   "source": [
    "dat"
   ]
  },
  {
   "cell_type": "markdown",
   "metadata": {},
   "source": [
    "***"
   ]
  },
  {
   "cell_type": "markdown",
   "metadata": {},
   "source": [
    "## Question 2 - Pascal’s Triangle [20]"
   ]
  },
  {
   "cell_type": "markdown",
   "metadata": {},
   "source": [
    "a. Write a function to compute a specified row of Pascal’s triangle. An arbitrary row of Pascal’s triangle can be computed efficiently by starting with $\\tbinom{n}{0} = 1$  and then applying the following recurrence relation among binomial coefficients, $$\\tbinom{n}{k} = \\tbinom{n}{k-1} * \\frac{n+1-k}{k}$$"
   ]
  },
  {
   "cell_type": "code",
   "execution_count": 14,
   "metadata": {},
   "outputs": [
    {
     "name": "stdout",
     "output_type": "stream",
     "text": [
      "1 4 6 4 1 \n"
     ]
    }
   ],
   "source": [
    "# function: ------------------------------------------------------------------\n",
    "def row_PascT(n):\n",
    "    C = 1 \n",
    "    for i in range(1, n + 1):\n",
    "        print(C, end = \" \")\n",
    "        C = int(C * (n - i) / i)\n",
    "    print(\"\")\n",
    "\n",
    "    \n",
    "# display the 5th row of Pascal Triangle:-------------------------------------\n",
    "row_PascT(5)\n",
    "\n",
    "# 79: ------------------------------------------------------------------------"
   ]
  },
  {
   "cell_type": "markdown",
   "metadata": {},
   "source": [
    "***"
   ]
  },
  {
   "cell_type": "markdown",
   "metadata": {},
   "source": [
    "b. Write a function for printing the first $n$ rows of Pascal’s triangle using the conventional spacing with the numbers in each row staggered relative to adjacent rows. Use your function to display a minimum of 10 rows in your notebook."
   ]
  },
  {
   "cell_type": "code",
   "execution_count": 15,
   "metadata": {},
   "outputs": [
    {
     "name": "stdout",
     "output_type": "stream",
     "text": [
      "1 \n",
      "1 1 \n",
      "1 2 1 \n",
      "1 3 3 1 \n",
      "1 4 6 4 1 \n",
      "1 5 10 10 5 1 \n",
      "1 6 15 20 15 6 1 \n",
      "1 7 21 35 35 21 7 1 \n",
      "1 8 28 56 70 56 28 8 1 \n",
      "1 9 36 84 126 126 84 36 9 1 \n"
     ]
    }
   ],
   "source": [
    "# function: ------------------------------------------------------------------\n",
    "def printPascT(n):    \n",
    "    for line in range(1, n + 1):\n",
    "        C = 1  ### the 1st element of each row is 1\n",
    "        for i in range(1, line + 1):\n",
    "            print(C, end = \" \")\n",
    "            C = int(C * (line- i) / i) ### applying the recurrence relation\n",
    "        print(\"\")\n",
    "\n",
    "        \n",
    "        \n",
    "# print first 10 rows of Pascal Triangle: ------------------------------------\n",
    "\n",
    "printPascT(10)\n",
    "\n",
    "# 79: ------------------------------------------------------------------------"
   ]
  },
  {
   "cell_type": "markdown",
   "metadata": {},
   "source": [
    "***"
   ]
  },
  {
   "cell_type": "markdown",
   "metadata": {},
   "source": [
    "## Question 3 - Statistics 101 [40]"
   ]
  },
  {
   "cell_type": "markdown",
   "metadata": {},
   "source": [
    "a. The standard point and interval estimate for the populaiton mean based on Normal theory takes the form $\\bar{x}±z×se(x)$ where $\\bar{x}$ is the mean, $se(x)$ is the standard error, and $z$ is a Gaussian multiplier that depends on the desired confidence level. Write a function to return a point and interval estimate for the mean based on these statistics."
   ]
  },
  {
   "cell_type": "code",
   "execution_count": 116,
   "metadata": {},
   "outputs": [],
   "source": [
    "# function: ------------------------------------------------------------------\n",
    "def get_estimate(data,conf_lv=0.95,input_string=True):\n",
    "    \"\"\"\n",
    "    get point and interval estimate\n",
    "    \n",
    "    Parameter\n",
    "    ---------\n",
    "    data: 1d array or list\n",
    "    conf_lv: confidence level, an integer range(0,1)\n",
    "    \n",
    "    Returns\n",
    "    ---------\n",
    "    A string of estimate or a dict\n",
    "    \"\"\"\n",
    "    from scipy.stats import norm\n",
    "    \n",
    "    try:\n",
    "        data = np.array(data)\n",
    "        data.astype(float)\n",
    "\n",
    "    except ValueError:         \n",
    "        print ('ValueError: Data input invalid. Use 1d Numpy arrary or',\n",
    "               'objects are coercable to 1d Numpy arrary.')\n",
    "        return\n",
    " \n",
    "    if type(data) is np.ndarray:\n",
    "        theta_hat = np.mean(data)\n",
    "        se = np.std(data,ddof=1)/np.sqrt(len(data))\n",
    "\n",
    "        z = norm.ppf(0.5+conf_lv/2,loc=0,scale=1)\n",
    "        CI_left = theta_hat- z * se\n",
    "        CI_right = theta_hat+ z * se\n",
    "\n",
    "        string = str(format(theta_hat,'.3f'))+\" \"+\"[\"+str(int(conf_lv*100))+'%CI:'+'('+str(format(\n",
    "                    CI_left,'.3f'))+','+str(format(CI_right,'.3f'))+')]'\n",
    "        dic = {}\n",
    "        dic['est'] = theta_hat\n",
    "        dic['lwr'] = CI_left\n",
    "        dic['upr'] = CI_right\n",
    "        dic['level'] = conf_lv\n",
    "\n",
    "        if input_string == True:\n",
    "            return string\n",
    "        if input_string == None:\n",
    "            return dic\n",
    "        else:\n",
    "            return 'Parameter `input string` can only be True or None'\n",
    "\n",
    "# 79: ------------------------------------------------------------------------"
   ]
  },
  {
   "cell_type": "code",
   "execution_count": 117,
   "metadata": {},
   "outputs": [
    {
     "name": "stdout",
     "output_type": "stream",
     "text": [
      "2.000 [95%CI:(0.868,3.132)]\n"
     ]
    }
   ],
   "source": [
    "# Test: ----------------------------------------------------------------------\n",
    "a = [1,2,3]\n",
    "print(get_estimate(a))\n",
    "\n",
    "# 79: ------------------------------------------------------------------------"
   ]
  },
  {
   "cell_type": "markdown",
   "metadata": {},
   "source": [
    "b. There are a number of methods for computing a confidence interval for a population proportion arising from a Binomial experiment consisting of $n$ independent and identically distributed (iid) Bernoulli trials. Let $x$ be the number of successes in thes trials. In this question you will write a function to return point and interval estimates based on several of these methods. Your function should have a `parameter` method that controls the method used. Include functionality for each of the following methods."
   ]
  },
  {
   "cell_type": "code",
   "execution_count": 88,
   "metadata": {},
   "outputs": [],
   "source": [
    "# function: ------------------------------------------------------------------\n",
    "def get_estimate_Bino(dat,conf_lv=0.95,method='Normal approximation',input_string=None):\n",
    "    \n",
    "    \"\"\"\n",
    "    computing a point estimate confidence interval for a population proportion\n",
    "    arising from a Binomial experiment consisting of n iid Bernoulli trials.\n",
    "    \n",
    "    Parameter\n",
    "    ---------\n",
    "    dat: a 1d numpy array that only have 0 and 1 \n",
    "    conf_lv:confidence level\n",
    "    method: 4 methods of computing CI {Normal approximation, CP, Jeffery, AC}\n",
    "    \n",
    "    Returns\n",
    "    ---------\n",
    "    A dict of point estimate and confidence interval\n",
    "    \"\"\"\n",
    "    from scipy.stats import norm,beta\n",
    "    import numpy as np\n",
    "    \n",
    "    dat = np.array(dat)\n",
    "    if type(dat) is not np.ndarray:\n",
    "        return 'input data must be 1d numpy array.'\n",
    "    else:\n",
    "        x = sum(dat)\n",
    "        n = len(dat)\n",
    "        p_hat = x/n\n",
    "        dic = {}\n",
    "        dic['est'] = p_hat\n",
    "        dic['level'] = conf_lv\n",
    "\n",
    "        if method =='Normal approximation':\n",
    "            if min(x,n-x)>12:\n",
    "                z = norm.ppf(0.5+conf_lv/2,loc=0,scale=1)\n",
    "                dic['lwr'] = p_hat - z * np.sqrt(p_hat*(1-p_hat)/n)\n",
    "                dic['upr'] = p_hat + z * np.sqrt(p_hat*(1-p_hat)/n)\n",
    "                dic['method']='Normal approximation'\n",
    "            else: \n",
    "                return 'condition for this method is not satisfied!'\n",
    "\n",
    "        if method == 'CP':\n",
    "            alpha = 1-conf_lv\n",
    "            dic['lwr'] = beta.ppf(alpha/2, x, n-x+1)\n",
    "            dic['upr'] = beta.ppf(1-alpha/2, x+1, n-x)\n",
    "            dic['method']='Clopper-Pearson'\n",
    "\n",
    "        if method == 'Jeffery':\n",
    "            alpha = 1-conf_lv\n",
    "            dic['lwr'] = max(0,beta.ppf(alpha/2, x+0.5, n-x+0.5))\n",
    "            dic['upr'] = min(beta.ppf(1-alpha/2, x+0.5, n-x+0.5),1)\n",
    "            dic['method']='Jeffery'\n",
    "\n",
    "        if method == 'AC':\n",
    "            z = norm.ppf(0.5+conf_lv/2,loc=0,scale=1)\n",
    "            n_t = n + z**2\n",
    "            p_t = (x+z**2/2)/n_t \n",
    "            dic['est'] = p_t\n",
    "            dic['lwr'] = p_t - z * np.sqrt(p_t*(1-p_t)/n_t)\n",
    "            dic['upr'] = p_t + z * np.sqrt(p_t*(1-p_t)/n_t)\n",
    "            dic['method']='Agresti-Coull'\n",
    "    \n",
    "    if input_string == None:\n",
    "        return dic\n",
    "    if input_string == True:\n",
    "        string = str(format(dic['est'],'.3f'))+\" \"+\"[\"+str(int(conf_lv*100))+'%CI:'+'('+str(\n",
    "            format(dic['lwr'],'.3f'))+','+str(format(dic['upr'],'.3f'))+')]'\n",
    "        return string\n",
    "    else:\n",
    "        return 'Parameter `input string` can only be True or None'\n",
    "\n",
    "# 79: ------------------------------------------------------------------------"
   ]
  },
  {
   "cell_type": "markdown",
   "metadata": {},
   "source": [
    "c. Create a 1d Numpy array with $42$ ones and $48$ zeros. Construct a nicely formatted table comparing $90$, $95$, and $99%$ confidence intervals using each of the methods above (including part a) on this data. Choose the number of decimals to display carefully to emphasize differences. For each confidence level, which method produces the interval with the smallest width?"
   ]
  },
  {
   "cell_type": "code",
   "execution_count": 118,
   "metadata": {},
   "outputs": [],
   "source": [
    "# Create a 1d Numpy array with 42 ones and 48 zeros---------------------------\n",
    "a = np.repeat(1,42)\n",
    "b = np.repeat(0,48)\n",
    "dat =np.append(a,b)\n",
    "# 79: ------------------------------------------------------------------------"
   ]
  },
  {
   "cell_type": "code",
   "execution_count": 119,
   "metadata": {},
   "outputs": [],
   "source": [
    "# ALL 5 Methods result: ----------------------------------------------------------\n",
    "\n",
    "# method in part a \n",
    "res_a_95 = get_estimate(dat)\n",
    "res_a_90 = get_estimate(dat,conf_lv=0.9)\n",
    "res_a_99 = get_estimate(dat,conf_lv = 0.99)\n",
    "\n",
    "# 4 methods in part b\n",
    "res_NA_90 = get_estimate_Bino(dat,conf_lv=0.9,method='Normal approximation',input_string=True)\n",
    "res_NA_95 = get_estimate_Bino(dat,conf_lv=0.95,method='Normal approximation',input_string=True)\n",
    "res_NA_99 = get_estimate_Bino(dat,conf_lv=0.99,method='Normal approximation',input_string=True)\n",
    "\n",
    "res_CP_90 = get_estimate_Bino(dat,conf_lv=0.9,method='CP',input_string=True)\n",
    "res_CP_95 = get_estimate_Bino(dat,conf_lv=0.95,method='CP',input_string=True)\n",
    "res_CP_99 = get_estimate_Bino(dat,conf_lv=0.99,method='CP',input_string=True)\n",
    "\n",
    "res_Jeffery_90 = get_estimate_Bino(dat,conf_lv=0.9,method='Jeffery',input_string=True)\n",
    "res_Jeffery_95 = get_estimate_Bino(dat,conf_lv=0.95,method='Jeffery',input_string=True)\n",
    "res_Jeffery_99 = get_estimate_Bino(dat,conf_lv=0.99,method='Jeffery',input_string=True)\n",
    "\n",
    "res_AC_90 = get_estimate_Bino(dat,conf_lv=0.9,method='AC',input_string=True)\n",
    "res_AC_95 = get_estimate_Bino(dat,conf_lv=0.95,method='AC',input_string=True)\n",
    "res_AC_99 = get_estimate_Bino(dat,conf_lv=0.99,method='AC',input_string=True)\n",
    "# 79: ------------------------------------------------------------------------"
   ]
  },
  {
   "cell_type": "code",
   "execution_count": 120,
   "metadata": {
    "scrolled": true
   },
   "outputs": [
    {
     "data": {
      "text/html": [
       "<div>\n",
       "<style scoped>\n",
       "    .dataframe tbody tr th:only-of-type {\n",
       "        vertical-align: middle;\n",
       "    }\n",
       "\n",
       "    .dataframe tbody tr th {\n",
       "        vertical-align: top;\n",
       "    }\n",
       "\n",
       "    .dataframe thead th {\n",
       "        text-align: right;\n",
       "    }\n",
       "</style>\n",
       "<table border=\"1\" class=\"dataframe\">\n",
       "  <thead>\n",
       "    <tr style=\"text-align: right;\">\n",
       "      <th></th>\n",
       "      <th>Methods</th>\n",
       "      <th>90% CI</th>\n",
       "      <th>95% CI</th>\n",
       "      <th>99% CI</th>\n",
       "    </tr>\n",
       "  </thead>\n",
       "  <tbody>\n",
       "    <tr>\n",
       "      <th>0</th>\n",
       "      <td>Method in part a</td>\n",
       "      <td>0.467 [90%CI:(0.380,0.554)]</td>\n",
       "      <td>0.467 [95%CI:(0.363,0.570)]</td>\n",
       "      <td>0.467 [99%CI:(0.330,0.603)]</td>\n",
       "    </tr>\n",
       "    <tr>\n",
       "      <th>1</th>\n",
       "      <td>Normal Approximation</td>\n",
       "      <td>0.467 [90%CI:(0.380,0.553)]</td>\n",
       "      <td>0.467 [95%CI:(0.364,0.570)]</td>\n",
       "      <td>0.467 [99%CI:(0.331,0.602)]</td>\n",
       "    </tr>\n",
       "    <tr>\n",
       "      <th>2</th>\n",
       "      <td>Clopper-Pearson</td>\n",
       "      <td>0.467 [90%CI:(0.376,0.559)]</td>\n",
       "      <td>0.467 [95%CI:(0.361,0.575)]</td>\n",
       "      <td>0.467 [99%CI:(0.331,0.606)]</td>\n",
       "    </tr>\n",
       "    <tr>\n",
       "      <th>3</th>\n",
       "      <td>Jeffery</td>\n",
       "      <td>0.467 [90%CI:(0.382,0.553)]</td>\n",
       "      <td>0.467 [95%CI:(0.366,0.569)]</td>\n",
       "      <td>0.467 [99%CI:(0.336,0.601)]</td>\n",
       "    </tr>\n",
       "    <tr>\n",
       "      <th>4</th>\n",
       "      <td>Agresti-Coull</td>\n",
       "      <td>0.468 [90%CI:(0.382,0.553)]</td>\n",
       "      <td>0.468 [95%CI:(0.367,0.569)]</td>\n",
       "      <td>0.469 [99%CI:(0.338,0.600)]</td>\n",
       "    </tr>\n",
       "  </tbody>\n",
       "</table>\n",
       "</div>"
      ],
      "text/plain": [
       "                Methods                       90% CI  \\\n",
       "0      Method in part a  0.467 [90%CI:(0.380,0.554)]   \n",
       "1  Normal Approximation  0.467 [90%CI:(0.380,0.553)]   \n",
       "2       Clopper-Pearson  0.467 [90%CI:(0.376,0.559)]   \n",
       "3               Jeffery  0.467 [90%CI:(0.382,0.553)]   \n",
       "4         Agresti-Coull  0.468 [90%CI:(0.382,0.553)]   \n",
       "\n",
       "                        95% CI                       99% CI  \n",
       "0  0.467 [95%CI:(0.363,0.570)]  0.467 [99%CI:(0.330,0.603)]  \n",
       "1  0.467 [95%CI:(0.364,0.570)]  0.467 [99%CI:(0.331,0.602)]  \n",
       "2  0.467 [95%CI:(0.361,0.575)]  0.467 [99%CI:(0.331,0.606)]  \n",
       "3  0.467 [95%CI:(0.366,0.569)]  0.467 [99%CI:(0.336,0.601)]  \n",
       "4  0.468 [95%CI:(0.367,0.569)]  0.469 [99%CI:(0.338,0.600)]  "
      ]
     },
     "execution_count": 120,
     "metadata": {},
     "output_type": "execute_result"
    }
   ],
   "source": [
    "# Write result into a Table: ------------------------------------------------\n",
    "methods_lst = ['Method in part a','Normal Approximation','Clopper-Pearson',\n",
    "               'Jeffery','Agresti-Coull']\n",
    "res_df = pd.DataFrame(\n",
    "    {\n",
    "     \"Methods\": methods_lst,\n",
    "     \"90% CI\": [res_a_90,res_NA_90,res_CP_90,res_Jeffery_90,res_AC_90],\n",
    "     \"95% CI\": [res_a_95,res_NA_95,res_CP_95,res_Jeffery_95,res_AC_95],\n",
    "     \"99% CI\": [res_a_99,res_NA_99,res_CP_99,res_Jeffery_99,res_AC_99],\n",
    "     }\n",
    "    )\n",
    "\n",
    "# print the table: -----------------------------------------------------------\n",
    "res_df\n",
    "\n",
    "# 79: ------------------------------------------------------------------------"
   ]
  },
  {
   "cell_type": "markdown",
   "metadata": {},
   "source": [
    "- For all 3 confidence level, **Agresti-Coull** intervals has the smallest width."
   ]
  }
 ],
 "metadata": {
  "jupytext": {
   "encoding": "# -*- coding: utf-8 -*-",
   "formats": "ipynb,py:percent"
  },
  "kernelspec": {
   "display_name": "Python 3",
   "language": "python",
   "name": "python3"
  },
  "language_info": {
   "codemirror_mode": {
    "name": "ipython",
    "version": 3
   },
   "file_extension": ".py",
   "mimetype": "text/x-python",
   "name": "python",
   "nbconvert_exporter": "python",
   "pygments_lexer": "ipython3",
   "version": "3.7.4"
  }
 },
 "nbformat": 4,
 "nbformat_minor": 2
}
